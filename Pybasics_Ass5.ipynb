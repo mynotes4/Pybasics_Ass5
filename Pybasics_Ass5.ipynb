{
 "cells": [
  {
   "cell_type": "markdown",
   "id": "45271bae",
   "metadata": {},
   "source": [
    "1. What does an empty dictionary's code look like?\n",
    "\n",
    "Ans - d = {}"
   ]
  },
  {
   "cell_type": "markdown",
   "id": "a3f0ebd8",
   "metadata": {},
   "source": [
    "2. What is the value of a dictionary value with the key 'foo' and the value 42?\n",
    "\n",
    "Ans - {'foo':42}"
   ]
  },
  {
   "cell_type": "markdown",
   "id": "ed19f2cf",
   "metadata": {},
   "source": [
    "3. What is the most significant distinction between a dictionary and a list?\n",
    "\n",
    "Ans - The main distinction is that the items in dictionaries are accessed by keys and items in lists are accessed by position."
   ]
  },
  {
   "cell_type": "markdown",
   "id": "97ea9f14",
   "metadata": {},
   "source": [
    "4. What happens if you try to access spam['foo'] if spam is {'bar': 100}?\n",
    "\n",
    "Ans - It gives KeyError i.e the key with 'foo' is not defined"
   ]
  },
  {
   "cell_type": "markdown",
   "id": "9fde2696",
   "metadata": {},
   "source": [
    "5. If a dictionary is stored in spam, what is the difference between the expressions 'cat' in spam and 'cat' in spam.keys()?\n",
    "\n",
    "Ans - 'cat' in spam chacks if their is any key like 'cat' in dictionary while 'cat' in spam.keys() checks if 'cat' is present in dict_keys of spam.keys()."
   ]
  },
  {
   "cell_type": "markdown",
   "id": "db53053b",
   "metadata": {},
   "source": [
    "6. If a dictionary is stored in spam, what is the difference between the expressions 'cat' in spam and 'cat' in spam.values()?\n",
    "\n",
    "Ans - 'cat' in spam chacks if their is any key like 'cat' in dictionary while 'cat' in spam.values() checks if 'cat' is present in dict_values of spam.values()."
   ]
  },
  {
   "cell_type": "markdown",
   "id": "ecef5817",
   "metadata": {},
   "source": [
    "7. What is a shortcut for the following code?\n",
    "\n",
    "if 'color' not in spam:\n",
    "    \n",
    "    spam['color'] = 'black'\n",
    "\n",
    "Ans - spam.setdefault('color','black')"
   ]
  },
  {
   "cell_type": "markdown",
   "id": "679cd51b",
   "metadata": {},
   "source": [
    "8. How do you \"pretty print\" dictionary values using which module and function?\n",
    "\n",
    "Ans -"
   ]
  },
  {
   "cell_type": "code",
   "execution_count": 44,
   "id": "9cc95af5",
   "metadata": {},
   "outputs": [
    {
     "name": "stdout",
     "output_type": "stream",
     "text": [
      "{'a': 1, 'b': 2, 'c': 3}\n"
     ]
    }
   ],
   "source": [
    "#answer for q8\n",
    "import pprint\n",
    "\n",
    "d = {'a':1,'b':2,'c':3}\n",
    "\n",
    "pprint.pprint(d)"
   ]
  }
 ],
 "metadata": {
  "kernelspec": {
   "display_name": "Python 3 (ipykernel)",
   "language": "python",
   "name": "python3"
  },
  "language_info": {
   "codemirror_mode": {
    "name": "ipython",
    "version": 3
   },
   "file_extension": ".py",
   "mimetype": "text/x-python",
   "name": "python",
   "nbconvert_exporter": "python",
   "pygments_lexer": "ipython3",
   "version": "3.9.12"
  }
 },
 "nbformat": 4,
 "nbformat_minor": 5
}
